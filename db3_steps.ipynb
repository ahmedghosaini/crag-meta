{
 "cells": [
  {
   "cell_type": "markdown",
   "metadata": {},
   "source": [
    "##### Load libraries"
   ]
  },
  {
   "cell_type": "code",
   "execution_count": 1,
   "metadata": {},
   "outputs": [],
   "source": [
    "### Load libraries\n",
    "import torch\n",
    "from transformers import  LlamaForCausalLM\n",
    "import models.Retriever as Retriever\n",
    "from transformers import  GenerationConfig\n",
    "from models.Parse import parse_answer, finance_parse_answer, music_parse_answer, sports_parse_answer, open_parse_answer\n",
    "from models.prompt_api import template_map\n",
    "import time\n",
    "from peft import PeftModel\n",
    "import re\n",
    "from transformers import AutoTokenizer, AutoModelForCausalLM\n",
    "torch.cuda.empty_cache()\n",
    "\n",
    "import bz2\n",
    "import json\n",
    "import os\n",
    "from datetime import datetime\n",
    "from loguru import logger\n",
    "from openai import APIConnectionError, OpenAI, RateLimitError\n",
    "from prompts.templates import IN_CONTEXT_EXAMPLES, INSTRUCTIONS\n",
    "from tqdm.auto import tqdm"
   ]
  },
  {
   "cell_type": "markdown",
   "metadata": {},
   "source": [
    "##### load and preprocess data"
   ]
  },
  {
   "cell_type": "code",
   "execution_count": 2,
   "metadata": {},
   "outputs": [],
   "source": [
    "def load_data_in_batches(dataset_path, batch_size):\n",
    "    \"\"\"\n",
    "    Generator function that reads data from a compressed file and yields batches of data.\n",
    "    Each batch is a dictionary containing lists of interaction_ids, queries, search results, query times, and answers.\n",
    "    \n",
    "    Args:\n",
    "    dataset_path (str): Path to the dataset file.\n",
    "    batch_size (int): Number of data items in each batch.\n",
    "    \n",
    "    Yields:\n",
    "    dict: A batch of data.\n",
    "    \"\"\"\n",
    "    def initialize_batch():\n",
    "        \"\"\" Helper function to create an empty batch. \"\"\"\n",
    "        return {\"interaction_id\": [], \"query\": [], \"search_results\": [], \"query_time\": [], \"answer\": []}\n",
    "\n",
    "    try:\n",
    "        with bz2.open(dataset_path, \"rt\") as file:\n",
    "            batch = initialize_batch()\n",
    "            for line in file:\n",
    "                try:\n",
    "                    item = json.loads(line)\n",
    "                    for key in batch:\n",
    "                        batch[key].append(item[key])\n",
    "                    \n",
    "                    if len(batch[\"query\"]) == batch_size:\n",
    "                        yield batch\n",
    "                        batch = initialize_batch()\n",
    "                except json.JSONDecodeError:\n",
    "                    logger.warn(\"Warning: Failed to decode a line.\")\n",
    "            # Yield any remaining data as the last batch\n",
    "            if batch[\"query\"]:\n",
    "                yield batch\n",
    "    except FileNotFoundError as e:\n",
    "        logger.error(f\"Error: The file {dataset_path} was not found.\")\n",
    "        raise e\n",
    "    except IOError as e:\n",
    "        logger.error(f\"Error: An error occurred while reading the file {dataset_path}.\")\n",
    "        raise e"
   ]
  },
  {
   "cell_type": "code",
   "execution_count": 3,
   "metadata": {},
   "outputs": [],
   "source": [
    "# load and preprocess data\n",
    "DATASET_PATH = \"example_data/dev_data.jsonl.bz2\"\n",
    "batch_size = 1\n",
    "data_batches = load_data_in_batches(DATASET_PATH, batch_size)\n"
   ]
  },
  {
   "cell_type": "code",
   "execution_count": 4,
   "metadata": {},
   "outputs": [
    {
     "data": {
      "application/vnd.jupyter.widget-view+json": {
       "model_id": "92bfb60d20a64d2480af40314c5b99c4",
       "version_major": 2,
       "version_minor": 0
      },
      "text/plain": [
       "Generating predictions: 0it [00:00, ?it/s]"
      ]
     },
     "metadata": {},
     "output_type": "display_data"
    },
    {
     "name": "stdout",
     "output_type": "stream",
     "text": [
      "['is microsoft office 2019 available in a greater number of languages than microsoft office 2013?', 'what company in the dow jones is the best performer today?', 'name three celebrities who have been involved in successful collaborations with beauty brands.', 'what is the other language between heaven and hell came out in originally?', 'how many times has rory mcilroy won the masters tournament?', 'which companies have the highest level of dividend yield?', 'what is the shortest highway in the us in feet?', 'which company have larger market cap, plya or seatw?', 'who was the first actor to play the role of a comic book villain in a live-action movie?', 'is dreamworks animation owned by time warner or universal pictures?'] ['yes', 'salesforce', 'three celebrities who have been involved in successful collaborations with beauty brands are jennifer aniston (lolavie), kim kardashian (skkn), and selena gomez (rare).', 'en', 'rory mcilroy has never won the masters tournament, despite being one of the most successful golfers on the pga tour.', 'some companies with a high level of dividend yield are hess midstream lp, xerox, and at&t with dividend yields of over 5% each.', 'the shortest highway in the us, i-878 in new york, is only 3,696 feet long.', 'nan', 'carol forman was the first actor to play the role of a comic book villain in a live-action movie, in his iconic portrayal of the spider lady in superman, directed by spencer gordon bennet and thomas carr.', 'universal pictures']\n"
     ]
    }
   ],
   "source": [
    "queries, ground_truths, predictions, search_results = [], [], [], []\n",
    "# batch_size = participant_model.get_batch_size()\n",
    "\n",
    "for i, batch in enumerate(tqdm(data_batches, desc=\"Generating predictions\")):\n",
    "\t# batch_ground_truths = batch.pop(\"answer\")  # Remove answers from batch and store them\n",
    "\t# batch_predictions = participant_model.batch_generate_answer(batch)\n",
    "\t\n",
    "\tqueries.extend(batch[\"query\"])\n",
    "\tground_truths.extend(batch[\"answer\"])\n",
    "\tsearch_results.extend(batch[\"search_results\"])\n",
    "\t# predictions.extend(batch_predictions)\n",
    "\tif i >=20:\n",
    "\t\tbreak\n",
    "print(queries, ground_truths)"
   ]
  },
  {
   "cell_type": "code",
   "execution_count": 5,
   "metadata": {},
   "outputs": [
    {
     "name": "stdout",
     "output_type": "stream",
     "text": [
      "dict_keys(['interaction_id', 'query', 'search_results', 'query_time', 'answer'])\n",
      "5\n",
      "dict_keys(['page_name', 'page_url', 'page_snippet', 'page_result', 'page_last_modified'])\n"
     ]
    }
   ],
   "source": [
    "print(batch.keys())\n",
    "print(len(search_results[0]))\n",
    "print(search_results[0][0].keys())\n",
    "# print(search_results[0][0])"
   ]
  },
  {
   "cell_type": "code",
   "execution_count": 6,
   "metadata": {},
   "outputs": [
    {
     "name": "stdout",
     "output_type": "stream",
     "text": [
      "what company in the dow jones is the best performer today?\n"
     ]
    }
   ],
   "source": [
    "index = 1\n",
    "query = queries[index]\n",
    "print(query)\n",
    "\n",
    "search_result_0 = search_results[index]\n",
    "search_result_cont = []\n",
    "for page in search_result_0:\n",
    "\tsearch_result_cont.append(page['page_result'])\n",
    "\t# print(page['page_snippet'])\n",
    "# text = process_webpage(search_result_0)"
   ]
  },
  {
   "cell_type": "markdown",
   "metadata": {},
   "source": [
    "##### Retriever"
   ]
  },
  {
   "cell_type": "code",
   "execution_count": null,
   "metadata": {},
   "outputs": [],
   "source": [
    "from transformers import AutoTokenizer\n",
    "from langchain_text_splitters import CharacterTextSplitter\n",
    "from FlagEmbedding import B,FlagReranker"
   ]
  },
  {
   "cell_type": "code",
   "execution_count": null,
   "metadata": {},
   "outputs": [],
   "source": [
    "reranker = FlagReranker(rerank_path, use_fp16=True,device =device2)\n",
    "        \n",
    "tokenizer = AutoTokenizer.from_pretrained(token_path)\n",
    "\n",
    "parent_text_splitter = CharacterTextSplitter(\n",
    "\tchunk_size=parent_chunk_size,\n",
    "\tchunk_overlap=parent_chunk_overlap,\n",
    "\tseparator=' '\n",
    ") "
   ]
  },
  {
   "cell_type": "code",
   "execution_count": 7,
   "metadata": {},
   "outputs": [
    {
     "name": "stderr",
     "output_type": "stream",
     "text": [
      "/home/ahmed.al-ghosaini/Workspace/meta-kdd-cup-24-db-3/models/Retriever.py:44: LangChainDeprecationWarning: The class `HuggingFaceEmbeddings` was deprecated in LangChain 0.2.2 and will be removed in 1.0. An updated version of the class exists in the :class:`~langchain-huggingface package and should be used instead. To use it run `pip install -U :class:`~langchain-huggingface` and import as `from :class:`~langchain_huggingface import HuggingFaceEmbeddings``.\n",
      "  self.hf_embeddings = HuggingFaceEmbeddings(model_name=hf_path,\n",
      "No sentence-transformers model found with name models/all-Mini-L6-v2. Creating a new one with MEAN pooling.\n",
      "/home/ahmed.al-ghosaini/micromamba/envs/default/lib/python3.11/site-packages/torch/_utils.py:831: UserWarning: TypedStorage is deprecated. It will be removed in the future and UntypedStorage will be the only storage class. This should only matter to you if you are using storages directly.  To access UntypedStorage directly, use tensor.untyped_storage() instead of tensor.storage()\n",
      "  return self.fget.__get__(instance, owner)()\n",
      "Special tokens have been added in the vocabulary, make sure the associated word embeddings are fine-tuned or trained.\n"
     ]
    }
   ],
   "source": [
    "retriever = Retriever.Retriever2(batch_size=64, device1=\"cuda:1\", device2=\"cuda:1\",\n",
    "                                hf_path=\"models/all-Mini-L6-v2\", parent_chunk_size=2000, parent_chunk_overlap=400,\n",
    "                                child_chunk_size=200, child_chunk_overlap=50,\n",
    "                                )"
   ]
  },
  {
   "cell_type": "code",
   "execution_count": 8,
   "metadata": {},
   "outputs": [
    {
     "name": "stderr",
     "output_type": "stream",
     "text": [
      "0it [00:00, ?it/s]Truncation was not explicitly activated but `max_length` is provided a specific value, please use `truncation=True` to explicitly truncate examples to max length. Defaulting to 'longest_first' truncation strategy. If you encode pairs of sequences (GLUE-style) with the tokenizer you can select this strategy more precisely by providing a specific strategy to `truncation`.\n"
     ]
    },
    {
     "name": "stderr",
     "output_type": "stream",
     "text": [
      "5it [00:00, 34.87it/s]\n",
      "/home/ahmed.al-ghosaini/Workspace/meta-kdd-cup-24-db-3/models/Retriever.py:249: LangChainDeprecationWarning: The class `Chroma` was deprecated in LangChain 0.2.9 and will be removed in 1.0. An updated version of the class exists in the :class:`~langchain-chroma package and should be used instead. To use it run `pip install -U :class:`~langchain-chroma` and import as `from :class:`~langchain_chroma import Chroma``.\n",
      "  hf_vectorstore = Chroma(\n"
     ]
    },
    {
     "name": "stdout",
     "output_type": "stream",
     "text": [
      "len 4837\n",
      "len 2920\n",
      "len 2445\n",
      "len 3547\n",
      "get_text 0.14530110359191895\n",
      "hf_retriever 1.0439143180847168\n",
      "EnsembleRetriever 1.0439987182617188\n",
      "len docs 17\n",
      "[\"industrial average is one of the oldest stock market indexes. there are 30 dow jones stocks designed to serve as a bellwether for the general u.s. stock market. other major stock indexes include the technology-heavy nasdaq composite and the s&p 500 index — an index of the 500 largest companies in the u.s. best dow jones stocks to watch company name symbol closing price 2023 performance apple ( aapl ) 193.42 +48% intel ( intc ) 41.92 +90% microsoft ( msft ) 372.52 +56% visa ( v ) 254.61 +25% salesforce ( crm ) 251.02 +98% source: ibd data as of dec. 29, 2023 today's dow jones movers inside the dow jones industrial average, walmart ( wmt ) was one of tuesday's biggest gainers, up 1.6%. shares are extended past a cup-with-handle entry at 54.47. on the downside, intel ( intc ) and salesforce ( crm ) were the biggest decliners, both sliding 5%. amid the current stock market rally — according to the ibd big picture — investors should focus on stocks that show strong relative strength . these could again become 2024 market leaders if the dow jones industrial average is able to extend its recent gains. the best dow jones stocks to buy and watch in 2024 include apple, ibm, merck, microsoft and visa. stock market etf strategy and how to invest dow jones leader: apple stock among dow jones stocks in the magnificent seven , apple stock lost 2.9% tuesday on a report that showed slowing iphone sales in china. the company sold 24% fewer iphones in china in the first six weeks of 2024 than a year earlier, according to research firm counterpoint research . according to the ibd stock checkup , apple stock shows a 91 out of a best-possible 99 ibd composite rating. the composite rating — an easy way to identify top growth stocks — is a blend of key fundamental and technical metrics to help investors gauge a stock's strengths. ibm stock ibm shares are approaching a flat base's 196.90 buy point. the stock dipped 0.2% tuesday. merck stock drug giant merck is breaking out past a 119.65\", \"keys to stock investing short selling stock market timing swing trading tracking stock market trends what is crypto how to read stock charts premium online courses how to buy stocks educational resources new to ibd investing strategies video series investor's corner 12 days of learning investing with ibd podcast investing infographics events & webinars ibd digital: 2 months for $20 ibd moneyworks marketsurge ibd live leaderboard swingtrader marketdiem store shopping cart your cart is currently empty. visit the ibd store to get started. hi my ibd sign out my products my favorites my stock lists edit favorites sign in or subscribe research today's dow jones stocks to watch: apple stock dives on slowing iphone sales licensing scott lehtonen 02:20 pm et 03/05/2024 the dow jones industrial average ended february at new highs, as the ongoing stock market rally continues. the best dow jones stocks to watch in 2024 are apple ( aapl ), merck ( mrk ), microsoft ( msft ) and visa ( v ). x there are clear winners — and losers — at the start of february. the top three performing blue chip stocks in 2023 were salesforce ( crm ), intel ( intc ) and microsoft, posting rallies of 98%, 90% and 56%, respectively. the worst three dow jones stocks in 2023 were walgreens boots alliance ( wba ), chevron ( cvx ) and johnson & johnson ( jnj ), with respective declines of 30, 16% and 11%. the tech-heavy nasdaq rallied 43.4% in 2023, and the s&p 500 gained 24.2%. the dow jones industrial average rose 13.7% in 2023. what is the dow jones industrial average? founded in 1896 with 12 stocks, the dow jones industrial average is one of the oldest stock market indexes. there are 30 dow jones stocks designed to serve as a bellwether for the general u.s. stock market. other major stock indexes include the technology-heavy nasdaq composite and the s&p 500 index — an index of the 500 largest companies in the u.s. best dow jones stocks to watch company name symbol closing price 2023 performance apple (\", 'stop loss triggered. this feature is optional for every trader to minimize and control high losses from happening. step 5: set your target profit setting your target profit will let your trade position to close automatically when it reached a certain percentage of profit or reached a specific amount of gains. awesome right? best dow jones etf investing in an etf (exchange-traded fund) is another way to invest in the dow jones index. the best dow jones etf in the market today is spdr dow jones industrial average etf (dia) . it is a non-leveraged etf that copies the performance of the dow and its stock allocation. 5-year performance of spdr dow jones industrial average etf trust world’s top indices components: top 50 companies of s&p 500 in 2024 top 100 companies of nasdaq 100 index in 2024 top 30 companies of pse index in 2024 uk100 top 35 companies euro stoxx 50 components disclaimer: this article is for information purposes only and should not be considered as a professional advice. all investments have risks. risk only the money you can handle to lose. always do your own research before investing any asset. categories stock market index related posts list of euro stoxx 50 index components by market cap in 2024 top companies of china 50 index in 2024 (sse 50 stocks) top 10 companies of nikkei 225 index by weight (japan 225 index) top companies of france 40 (cac 40 index) in 2024 about fehl dungo founder of dailypik, entrepreneur, and tech investor. she has a degree in accountancy and background in finance. she analyzes stocks everyday. copy her trades on etoro connect with fehl on facebook ... 4 thoughts on “top 30 companies of dow jones index by weight in 2024” mahesh kodamullage may 14, 2022 at 5:30 am hi i want to invest in uk share market. how can i invest? which apps do you recommend? reply fehl dungo may 27, 2022 at 11:32 am depends on where you currently reside, etoro is a good trading app for us and uk stocks reply nald july 9, 2020 at 4:00 pm ms. fehl, if', \"the best dow jones stocks to buy and watch in 2024 are apple (aapl), merck (mrk), microsoft (msft) and visa (v). x · there are clear winners — and losers — at the start of february. the top three performing blue chip stocks in 2023 were salesforce (crm), intel (intc) and microsoft, posting ...the best dow jones stocks to buy and watch in 2024 are apple (aapl), merck (mrk), microsoft (msft) and visa (v). x · there are clear winners — and losers — at the start of february. the top three performing blue chip stocks in 2023 were salesforce (crm), intel (intc) and microsoft, posting rallies of 98%, 90% and 56%, respectively. the worst three dow jones stocks in 2023 were walgreens boots alliance (wba), chevron (cvx) and johnson & johnson (jnj), with respective declines of 30, 16% and 11%. apple and microsoft are among the dow jones stocks to watch in january 2024. the best dow jones stocks to buy and watch in 2024 include apple stock and microsoft in today's stock market. the dow jones industrial average ended january at new highs, as the ongoing stock market rally continues. the best dow jones stocks to buy and watch in 2024 are apple (aapl), merck (mrk), microsoft (msft) and visa (v). x\\n\\ndow jones stocks to watch today: salesforce, microsoft rally on nvidia earnings market trend market trend the big picture stock market data stock market today new? start here etf market strategy ibd digital: 2 months for $20 psychological indicators stock lists stock lists ibd 50 my stock lists stocks near a buy zone ibd etf indexes ibd sector leaders stock lists update relative strength at new high ibd data tables ibd big cap 20 stocks on the move rising profit estimates ibd digital: 2 months for $20 ibd long-term leaders new highs stocks funds are buying new? start here ipo leaders stock spotlight your weekly review research stock research ibd stock checkup investing action plan the income investor stock of the day earnings preview ibd stock analysis screen of the day earnings\", 'the index was once made up of industrial companies such as manufacturers and agricultural companies, but today it\\'s a diverse snapshot of the stock market, containing representatives from nearly every major stock market sector , including technology, consumer goods, healthcare, and energy, as well as industrials. the only exceptions are transportation and utilities, which have their own dow jones indexes. according to s&p global ( spgi -0.74% ), which operates both the dow jones and the s&p 500, there are few specific requirements for dow components. they must be members of the s&p 500 , which comes with its own set of requirements, including being based in the u.s. and being profitable at the time of admission. s&p global has said that a stock is admitted to the dow 30 \"only if the company has an excellent reputation, demonstrates sustained growth and is of interest to a large number of investors.\" the dow index is price-weighted, meaning that each stock\\'s impact on the index is determined by its share price. as a result, companies may be excluded based on a share price that is too high -- for example, in the $1,000 range -- or too low. the index managers also strive for a balance across sectors. there is no set protocol for changing dow components, but s&p global has refreshed the index every few years by pulling two or three stocks and adding new ones. the company says that can happen because of \"corporate actions\" or \"market developments.\" dow companies tend to be well-known, mature companies with leading market positions. the chart below shows the 30 companies currently in the dow jones industrial average. data source: yahoo! finance. data current as of november 20, 2023. company market cap description american express\\xa0( nyse:axp ) $119 billion credit card and financial services company. amgen\\xa0( nasdaq:amgn ) $142.3 billion a biotech company treating diseases such as cancer, heart disease, and kidney disorders. apple\\xa0( nasdaq:aapl ) $2.9 trillion maker of tech']\n"
     ]
    },
    {
     "name": "stderr",
     "output_type": "stream",
     "text": [
      "/home/ahmed.al-ghosaini/Workspace/meta-kdd-cup-24-db-3/models/Retriever.py:133: LangChainDeprecationWarning: The method `BaseRetriever.get_relevant_documents` was deprecated in langchain-core 0.1.46 and will be removed in 1.0. Use :meth:`~invoke` instead.\n",
      "  docs = self.retriever.get_relevant_documents(query)\n"
     ]
    }
   ],
   "source": [
    "if retriever.init_retriever(search_result_0, query=query, task3=False):\n",
    "\tsearch_empty = 0\n",
    "else:\n",
    "\tsearch_empty = 1\n",
    "res = retriever.get_result(query, k=5)\n",
    "print(res)"
   ]
  },
  {
   "cell_type": "code",
   "execution_count": 9,
   "metadata": {},
   "outputs": [
    {
     "name": "stdout",
     "output_type": "stream",
     "text": [
      "industrial average is one of the oldest stock market indexes. there are 30 dow jones stocks designed to serve as a bellwether for the general u.s. stock market. other major stock indexes include the technology-heavy nasdaq composite and the s&p 500 index — an index of the 500 largest companies in the u.s. best dow jones stocks to watch company name symbol closing price 2023 performance apple ( aapl ) 193.42 +48% intel ( intc ) 41.92 +90% microsoft ( msft ) 372.52 +56% visa ( v ) 254.61 +25% salesforce ( crm ) 251.02 +98% source: ibd data as of dec. 29, 2023 today's dow jones movers inside the dow jones industrial average, walmart ( wmt ) was one of tuesday's biggest gainers, up 1.6%. shares are extended past a cup-with-handle entry at 54.47. on the downside, intel ( intc ) and salesforce ( crm ) were the biggest decliners, both sliding 5%. amid the current stock market rally — according to the ibd big picture — investors should focus on stocks that show strong relative strength . these could again become 2024 market leaders if the dow jones industrial average is able to extend its recent gains. the best dow jones stocks to buy and watch in 2024 include apple, ibm, merck, microsoft and visa. stock market etf strategy and how to invest dow jones leader: apple stock among dow jones stocks in the magnificent seven , apple stock lost 2.9% tuesday on a report that showed slowing iphone sales in china. the company sold 24% fewer iphones in china in the first six weeks of 2024 than a year earlier, according to research firm counterpoint research . according to the ibd stock checkup , apple stock shows a 91 out of a best-possible 99 ibd composite rating. the composite rating — an easy way to identify top growth stocks — is a blend of key fundamental and technical metrics to help investors gauge a stock's strengths. ibm stock ibm shares are approaching a flat base's 196.90 buy point. the stock dipped 0.2% tuesday. merck stock drug giant merck is breaking out past a 119.65\n",
      " keys to stock investing short selling stock market timing swing trading tracking stock market trends what is crypto how to read stock charts premium online courses how to buy stocks educational resources new to ibd investing strategies video series investor's corner 12 days of learning investing with ibd podcast investing infographics events & webinars ibd digital: 2 months for $20 ibd moneyworks marketsurge ibd live leaderboard swingtrader marketdiem store shopping cart your cart is currently empty. visit the ibd store to get started. hi my ibd sign out my products my favorites my stock lists edit favorites sign in or subscribe research today's dow jones stocks to watch: apple stock dives on slowing iphone sales licensing scott lehtonen 02:20 pm et 03/05/2024 the dow jones industrial average ended february at new highs, as the ongoing stock market rally continues. the best dow jones stocks to watch in 2024 are apple ( aapl ), merck ( mrk ), microsoft ( msft ) and visa ( v ). x there are clear winners — and losers — at the start of february. the top three performing blue chip stocks in 2023 were salesforce ( crm ), intel ( intc ) and microsoft, posting rallies of 98%, 90% and 56%, respectively. the worst three dow jones stocks in 2023 were walgreens boots alliance ( wba ), chevron ( cvx ) and johnson & johnson ( jnj ), with respective declines of 30, 16% and 11%. the tech-heavy nasdaq rallied 43.4% in 2023, and the s&p 500 gained 24.2%. the dow jones industrial average rose 13.7% in 2023. what is the dow jones industrial average? founded in 1896 with 12 stocks, the dow jones industrial average is one of the oldest stock market indexes. there are 30 dow jones stocks designed to serve as a bellwether for the general u.s. stock market. other major stock indexes include the technology-heavy nasdaq composite and the s&p 500 index — an index of the 500 largest companies in the u.s. best dow jones stocks to watch company name symbol closing price 2023 performance apple (\n",
      " stop loss triggered. this feature is optional for every trader to minimize and control high losses from happening. step 5: set your target profit setting your target profit will let your trade position to close automatically when it reached a certain percentage of profit or reached a specific amount of gains. awesome right? best dow jones etf investing in an etf (exchange-traded fund) is another way to invest in the dow jones index. the best dow jones etf in the market today is spdr dow jones industrial average etf (dia) . it is a non-leveraged etf that copies the performance of the dow and its stock allocation. 5-year performance of spdr dow jones industrial average etf trust world’s top indices components: top 50 companies of s&p 500 in 2024 top 100 companies of nasdaq 100 index in 2024 top 30 companies of pse index in 2024 uk100 top 35 companies euro stoxx 50 components disclaimer: this article is for information purposes only and should not be considered as a professional advice. all investments have risks. risk only the money you can handle to lose. always do your own research before investing any asset. categories stock market index related posts list of euro stoxx 50 index components by market cap in 2024 top companies of china 50 index in 2024 (sse 50 stocks) top 10 companies of nikkei 225 index by weight (japan 225 index) top companies of france 40 (cac 40 index) in 2024 about fehl dungo founder of dailypik, entrepreneur, and tech investor. she has a degree in accountancy and background in finance. she analyzes stocks everyday. copy her trades on etoro connect with fehl on facebook ... 4 thoughts on “top 30 companies of dow jones index by weight in 2024” mahesh kodamullage may 14, 2022 at 5:30 am hi i want to invest in uk share market. how can i invest? which apps do you recommend? reply fehl dungo may 27, 2022 at 11:32 am depends on where you currently reside, etoro is a good trading app for us and uk stocks reply nald july 9, 2020 at 4:00 pm ms. fehl, if\n",
      " the best dow jones stocks to buy and watch in 2024 are apple (aapl), merck (mrk), microsoft (msft) and visa (v). x · there are clear winners — and losers — at the start of february. the top three performing blue chip stocks in 2023 were salesforce (crm), intel (intc) and microsoft, posting ...the best dow jones stocks to buy and watch in 2024 are apple (aapl), merck (mrk), microsoft (msft) and visa (v). x · there are clear winners — and losers — at the start of february. the top three performing blue chip stocks in 2023 were salesforce (crm), intel (intc) and microsoft, posting rallies of 98%, 90% and 56%, respectively. the worst three dow jones stocks in 2023 were walgreens boots alliance (wba), chevron (cvx) and johnson & johnson (jnj), with respective declines of 30, 16% and 11%. apple and microsoft are among the dow jones stocks to watch in january 2024. the best dow jones stocks to buy and watch in 2024 include apple stock and microsoft in today's stock market. the dow jones industrial average ended january at new highs, as the ongoing stock market rally continues. the best dow jones stocks to buy and watch in 2024 are apple (aapl), merck (mrk), microsoft (msft) and visa (v). x\n",
      "\n",
      "dow jones stocks to watch today: salesforce, microsoft rally on nvidia earnings market trend market trend the big picture stock market data stock market today new? start here etf market strategy ibd digital: 2 months for $20 psychological indicators stock lists stock lists ibd 50 my stock lists stocks near a buy zone ibd etf indexes ibd sector leaders stock lists update relative strength at new high ibd data tables ibd big cap 20 stocks on the move rising profit estimates ibd digital: 2 months for $20 ibd long-term leaders new highs stocks funds are buying new? start here ipo leaders stock spotlight your weekly review research stock research ibd stock checkup investing action plan the income investor stock of the day earnings preview ibd stock analysis screen of the day earnings\n",
      " the index was once made up of industrial companies such as manufacturers and agricultural companies, but today it's a diverse snapshot of the stock market, containing representatives from nearly every major stock market sector , including technology, consumer goods, healthcare, and energy, as well as industrials. the only exceptions are transportation and utilities, which have their own dow jones indexes. according to s&p global ( spgi -0.74% ), which operates both the dow jones and the s&p 500, there are few specific requirements for dow components. they must be members of the s&p 500 , which comes with its own set of requirements, including being based in the u.s. and being profitable at the time of admission. s&p global has said that a stock is admitted to the dow 30 \"only if the company has an excellent reputation, demonstrates sustained growth and is of interest to a large number of investors.\" the dow index is price-weighted, meaning that each stock's impact on the index is determined by its share price. as a result, companies may be excluded based on a share price that is too high -- for example, in the $1,000 range -- or too low. the index managers also strive for a balance across sectors. there is no set protocol for changing dow components, but s&p global has refreshed the index every few years by pulling two or three stocks and adding new ones. the company says that can happen because of \"corporate actions\" or \"market developments.\" dow companies tend to be well-known, mature companies with leading market positions. the chart below shows the 30 companies currently in the dow jones industrial average. data source: yahoo! finance. data current as of november 20, 2023. company market cap description american express ( nyse:axp ) $119 billion credit card and financial services company. amgen ( nasdaq:amgn ) $142.3 billion a biotech company treating diseases such as cancer, heart disease, and kidney disorders. apple ( nasdaq:aapl ) $2.9 trillion maker of tech\n"
     ]
    }
   ],
   "source": [
    "# context_str = tokenizer.encode(context_str, max_length=4000, add_special_tokens=False)\n",
    "context_str = \"\\n \".join(res)\n",
    "print(context_str)"
   ]
  },
  {
   "cell_type": "markdown",
   "metadata": {},
   "source": [
    "##### Prompt"
   ]
  },
  {
   "cell_type": "code",
   "execution_count": 10,
   "metadata": {},
   "outputs": [],
   "source": [
    "system_message = {\n",
    "    \"role\": \"system\",\n",
    "    \"content\": (\n",
    "        \"You are an AI assistant specializing in providing concise and accurate answers \"\n",
    "        \"to user queries by utilizing the provided context. If the answer is not within \"\n",
    "        \"the given context, respond with 'I don't know'. Limit your responses to three sentences.\"\n",
    "\t\t\"make the answer concise and accurate.\"\n",
    "\t\t\"make sure the answer is within the context.\"\n",
    "\t\t\"make the answer as short as possible.\"\n",
    "    )\n",
    "}\n",
    "\n",
    "user_message = {\n",
    "    \"role\": \"user\",\n",
    "    \"content\": (\n",
    "        \"Question: {question}\\n\"\n",
    "        \"Context: {context}\\n\"\n",
    "    ).format(\n",
    "        question=query,\n",
    "        context=context_str\n",
    "    )\n",
    "}\n",
    "messages = [\n",
    "\tsystem_message,\n",
    "\tuser_message,\n",
    "]"
   ]
  },
  {
   "cell_type": "markdown",
   "metadata": {},
   "source": [
    "##### Model"
   ]
  },
  {
   "cell_type": "code",
   "execution_count": 11,
   "metadata": {},
   "outputs": [
    {
     "data": {
      "application/vnd.jupyter.widget-view+json": {
       "model_id": "6508a6aeea2244bebdc0681f224a6bed",
       "version_major": 2,
       "version_minor": 0
      },
      "text/plain": [
       "Loading checkpoint shards:   0%|          | 0/7 [00:00<?, ?it/s]"
      ]
     },
     "metadata": {},
     "output_type": "display_data"
    },
    {
     "name": "stderr",
     "output_type": "stream",
     "text": [
      "Special tokens have been added in the vocabulary, make sure the associated word embeddings are fine-tuned or trained.\n"
     ]
    }
   ],
   "source": [
    "model_name = \"models/Llama-3-8B-instruct\"\n",
    "\n",
    "num_gpus = torch.cuda.device_count()\n",
    "if num_gpus <= 2:\n",
    "\tmodel = LlamaForCausalLM.from_pretrained(model_name, device_map=\"balanced\",\n",
    "\t\t\t\t\t\t\t\t\t\t\t\tmax_memory={0: \"44000MiB\", 1: 0, \"cpu\": 0})\n",
    "\tused1 = \"cuda:1\"\n",
    "\tused2 = \"cuda:1\"\n",
    "\tused = 'cuda:1'\n",
    "else:\n",
    "\tmodel = LlamaForCausalLM.from_pretrained(model_name, device_map=\"balanced\", )\n",
    "\tused1 = \"cuda:1\"\n",
    "\tused2 = \"cuda:2\"\n",
    "\tused = \"cuda:1\"\n",
    "\n",
    "# model = PeftModel.from_pretrained(model, \"models/pretrain_models/llama3-52-peft/checkpoint-480\", adapter_name=\"480\").eval()\n",
    "# model.load_adapter(\"models/pretrain_models/tran_619_apioutput/checkpoint-310\", adapter_name=\"api_answer\")\n",
    "# model.load_adapter(\"models/pretrain_models/train_618api_up/checkpoint-580\", adapter_name=\"generate_api\")\n",
    "\n",
    "# model.load_adapter(\"models/pretrain_models/llama3-52-peft/checkpoint-500\", adapter_name=\"old_generate_api\")\n",
    "# model.load_adapter(\"models/pretrain_models/llama3-52-peft/checkpoint-580\", adapter_name=\"old_api_answer\")\n",
    "# model.set_adapter(\"480\")\n",
    "\n",
    "tokenizer = AutoTokenizer.from_pretrained(model_name)"
   ]
  },
  {
   "cell_type": "markdown",
   "metadata": {},
   "source": [
    "##### test"
   ]
  },
  {
   "cell_type": "code",
   "execution_count": 12,
   "metadata": {},
   "outputs": [
    {
     "name": "stderr",
     "output_type": "stream",
     "text": [
      "The attention mask and the pad token id were not set. As a consequence, you may observe unexpected behavior. Please pass your input's `attention_mask` to obtain reliable results.\n",
      "Setting `pad_token_id` to `eos_token_id`:128001 for open-end generation.\n"
     ]
    },
    {
     "name": "stdout",
     "output_type": "stream",
     "text": [
      "what company in the dow jones is the best performer today?\n",
      "the best dow jones stock performer today is intel (intc) with a 5% decline.\n"
     ]
    }
   ],
   "source": [
    "print(query)\n",
    "# prepare input\n",
    "input_ids = tokenizer.apply_chat_template(\n",
    "                messages,\n",
    "                add_generation_prompt=True,\n",
    "                return_tensors=\"pt\"\n",
    "            ).to(model.device)\n",
    "\n",
    "# generate output\n",
    "outputs =  model.generate(\n",
    "\t\t\tinput_ids=input_ids,\n",
    "\t\t\t# generation_config=generation_config,\n",
    "\t\t\t# eos_token_id=terminators,\n",
    "\t\t\treturn_dict_in_generate=True,\n",
    "\t\t\toutput_scores=False)\n",
    "output = tokenizer.decode(outputs.sequences[0], skip_special_tokens=True).lower().split(\"assistant\")[\n",
    "                -1].strip()\n",
    "print(output)\n",
    "# with model.disable_adapter():\n",
    "# \tmodel.generate(\n",
    "# \t\t\tinput_ids=input_ids,\n",
    "# \t\t\t# generation_config=generation_config,\n",
    "# \t\t\t# eos_token_id=terminators,\n",
    "# \t\t\treturn_dict_in_generate=True,\n",
    "# \t\t\toutput_scores=False)\n",
    "# output = tokenizer.decode(outputs.sequences[0], skip_special_tokens=True).lower().split(\"assistant\")[\n",
    "#                 -1].strip()\n",
    "# print(output)"
   ]
  },
  {
   "cell_type": "code",
   "execution_count": 13,
   "metadata": {},
   "outputs": [
    {
     "name": "stdout",
     "output_type": "stream",
     "text": [
      "salesforce\n"
     ]
    }
   ],
   "source": [
    "print(ground_truths[index])"
   ]
  },
  {
   "cell_type": "code",
   "execution_count": null,
   "metadata": {},
   "outputs": [],
   "source": [
    "'<|begin_of_text|><|start_header_id|>system<|end_header_id|>\\nYou are a helpful, respectful and honest question answering system. I will be providing you with questions, as well as some additional context that may be helpful in answering those questions. You will be provided with additional information between the \"<DOCS>\" tags. Keep your answers brief, ideally less than 20 words, but a strict limit of 30 words.\\n\\nIf the provided information is insufficient for answering the question, simply output \"Insuffient information\" and only output that. If the question asserts a false premise, like \"When did Eisenhower become Prime Minister?\", simply output \"Invalid question\". Thus, if you are inclined to say something like \"X never has\" or \"X never was\" or \"X never did\", your output should be \"Invalid question\".\\n\\nFinal reminder, with award shows, years can be tricky. Often awards are handed out the year after the project is made. Thus for the Oscars in 2015, the awards are being given out to movies made in 2014.<|eot_id|><|start_header_id|>user<|end_header_id|>\\n# Example 1\\nQUESTION: who was the first nba player to get a recorded triple double in basketball?\\n<DOCS>\\n<DOC>\\nAndy Phillip got a triple-double versus the Fort Wayne Pistons on December 14, 1950.\\n</DOC>\\n</DOCS>\\nANSWER: andy phillip\\n\\n# Example 2\\nQUESTION: what year did ronald reagan become kommissar in the soviet union?\\n<DOCS>\\n<DOC>\\nRonald Wilson Reagan was an American politician and actor who served as the 40th president of the United States from 1981 to 1989.\\n</DOC>\\n<DOC>\\nReagan\\'s policies also helped contribute to the end of the Cold War and the end of Soviet communism.\\n</DOC>\\n</DOCS>\\nANSWER: invalid question\\n\\n# Example 3\\nQUESTION: what are the total number of farms in nebraska?\\n<DOCS>\\n<DOC>\\nThere are many farms in Nebraska, some growing corn, while other growing sugar beats.\\n</DOC>\\n<DOC>\\nNebraska\\'s largest industries are the argiculture and cattle production industries.\\n</DOC>\\n</DOCS>\\nANSWER: i don\\'t know\\n\\n<DOCS>\\n<DOC>\\nDow 30 Stocks List Today • Dogs of the Dow\\n## Which Dow stock pays the highest dividend?\\n\\nOf the 30 Dow Jones Industrial Companies, IBM pays the highest dividend with\\nan annual dividend yield of over 5%.\\n</DOC>\\n<DOC>\\nBest Dow Jones Stocks To Watch In 2024\\nThe Dow Jones Industrial Average ended February at new highs, as the ongoing\\nstock market rally continues. The best Dow Jones stocks to watch in 2024 are\\nApple (AAPL), Merck (MRK), Microsoft (MSFT) and Visa (V).\\n</DOC>\\n<DOC>\\nBest Dow Jones Stocks To Watch In 2024\\n\\n* Research\\n\\n#  Today\\'s Dow Jones Stocks To Watch: Apple Stock Dives On Slowing iPhone\\nSales\\n\\nLicensing\\n\\n  * SCOTT LEHTONEN\\n  * 02:20 PM ET 03/05/2024\\n</DOC>\\n<DOC>\\nBest Dow Jones Stocks To Watch In 2024\\n## IBM Stock\\nIBM shares are approaching a flat base\\'s 196.90 buy point.\\nThe stock dipped 0.2% Tuesday.\\n## Merck Stock\\nDrug giant Merck is breaking out past a 119.65 cup-base buy point.\\nMerck shares fell 1% Tuesday, back in the 5% buy area above the entry and\\npulling back to the 50-day line.\\n</DOC>\\n<DOC>\\nBest Dow Jones Stocks To Watch In 2024\\nThe worst three Dow Jones stocks in 2023 were Walgreens Boots Alliance (WBA),\\nChevron (CVX) and Johnson & Johnson (JNJ), with respective declines of 30, 16%\\nand 11%.\\n</DOC>\\n<DOC>\\nBest Dow Jones Stocks To Watch In 2024\\nOn the downside, Intel (INTC) and Salesforce (CRM) were the biggest decliners,\\nboth sliding 5%.\\nAmid the current stock market rally — according to the IBD Big Picture —\\ninvestors should focus on stocks that show strong relative strength. These\\ncould again become 2024 market leaders if the Dow Jones Industrial Average is\\nable to extend its recent gains.\\n</DOC>\\n<DOC>\\nBest Dow Jones Stocks To Watch In 2024\\nThe best Dow Jones stocks to buy and watch in 2024 include Apple, IBM, Merck,\\nMicrosoft and Visa.\\nStock Market ETF Strategy And How To Invest\\n## Dow Jones Leader: Apple Stock\\nAmong Dow Jones stocks in the Magnificent Seven, Apple stock lost 2.9% Tuesday\\non a report that showed slowing iPhone sales in China. The company sold 24%\\nfewer iPhones in China in the first six weeks of 2024 than a year earlier,\\naccording to research firm Counterpoint Research.\\n</DOC>\\n<DOC>\\nBest Dow Jones Stocks To Watch In 2024\\n###### Source: IBD Data As Of Dec. 29, 2023\\n## Today\\'s Dow Jones Movers\\nInside the Dow Jones Industrial Average, Walmart (WMT) was one of Tuesday\\'s\\nbiggest gainers, up 1.6%. Shares are extended past a cup-with-handle entry at\\n54.47.\\n</DOC>\\n<DOC>\\nBest Dow Jones Stocks To Watch In 2024\\nX\\nThere are clear winners — and losers — at the start of February. The top three\\nperforming blue chip stocks in 2023 were Salesforce (CRM), Intel (INTC) and\\nMicrosoft, posting rallies of 98%, 90% and 56%, respectively.\\n</DOC>\\n<DOC>\\nTop 30 Companies of Dow Jones Index by Weight in 2023\\n## Best Dow Jones ETF\\nInvesting in an ETF (Exchange-Traded Fund) is another way to invest in the Dow\\nJones index. The best Dow Jones ETF in the market today is SPDR Dow Jones\\nIndustrial Average ETF (DIA). It is a non-leveraged ETF that copies the\\nperformance of the Dow and its stock allocation.\\n</DOC>\\n</DOCS>\\nQUESTION (asked at 03/05/2024, 23:18:31 PT): what company in the dow jones is the best performer today?<|eot_id|><|start_header_id|>assistant<|end_header_id|>ANSWERABLE:'"
   ]
  },
  {
   "cell_type": "code",
   "execution_count": 18,
   "metadata": {},
   "outputs": [],
   "source": [
    "import os\n",
    "from openai import OpenAI\n",
    "os.environ[\"INTERWEB_APIKEY\"] = \"D40tLQc4plxanXT91P3zEJ2Dk1mjNUJOhjxT7uCKkZPgFq1NO1Ew8ZLI47KICpku\"\n",
    "os.environ['INTERWEB_HOST'] = \"https://interweb.l3s.uni-hannover.de\"\n",
    "# os.environ['INTERWEB_HOST'] = \"http://gpunode04.kbs:11434/v1/\"\n",
    "# os.environ['INTERWEB_APIKEY'] = \"ollama\"\n",
    "\n",
    "client = OpenAI(\n",
    "    base_url=os.getenv(\"INTERWEB_HOST\", \"http://gpunode04.kbs:11434/v1/\"),\n",
    "    api_key=os.getenv(\"INTERWEB_APIKEY\"),\n",
    ")\n",
    "\n",
    "# List available models\n",
    "# models = client.models.list()\n",
    "# print(models)\n",
    "\n",
    "# Create a completion\n",
    "message_text = [{\n",
    "    \"role\": \"system\",\n",
    "    \"content\": \"You are an AI assistant that helps people find information.\"\n",
    "}]"
   ]
  },
  {
   "cell_type": "code",
   "execution_count": 19,
   "metadata": {},
   "outputs": [
    {
     "name": "stdout",
     "output_type": "stream",
     "text": [
      "gpt-35-turbo\n",
      "gpt-35-turbo-16k\n",
      "gpt-35-turbo-1106\n",
      "gpt-4\n",
      "gpt-4-turbo\n",
      "gpt-4o\n",
      "gpt-4o-mini\n",
      "llama3.3:70b\n",
      "llama3.2:latest\n",
      "llama3.2:3b\n",
      "nomic-embed-text:v1.5\n",
      "bge-m3:567m\n",
      "snowflake-arctic-embed:335m\n",
      "llama3.2-vision:11b-instruct-q8_0\n",
      "llama3.2-vision:11b\n",
      "snowflake-arctic-embed:110m\n",
      "snowflake-arctic-embed:33m\n",
      "all-minilm:33m\n",
      "gemma2:2b-instruct-fp16\n",
      "mistral:7b-instruct-fp16\n",
      "mistral-nemo:12b-instruct-2407-fp16\n",
      "gemma2:9b-instruct-fp16\n",
      "phi3.5:3.8b-mini-instruct-fp16\n",
      "llama3.2:3b-instruct-fp16\n",
      "llama3.2:1b-instruct-fp16\n",
      "llama3.1:8b-instruct-fp16\n",
      "gemma:7b\n",
      "llama3.1:8b-instruct-q8_0\n",
      "llama3.1:70b\n",
      "mistral-nemo:12b\n",
      "gemma2:9b\n",
      "phi3:14b\n",
      "gemma2:27b\n",
      "llama3.1:8b\n",
      "qwen2.5-coder:7b\n",
      "gemma2:2b\n",
      "reflection:70b\n",
      "qwen2.5:7b\n",
      "qwen2.5:72b\n",
      "llava:7b\n",
      "llava:34b\n",
      "bakllava:7b\n",
      "llava-llama3:8b\n",
      "codellama:7b\n",
      "codegemma:7b\n",
      "mixtral:8x7b\n"
     ]
    }
   ],
   "source": [
    "for model in models:\n",
    "\tprint(model.id)"
   ]
  },
  {
   "cell_type": "code",
   "execution_count": 26,
   "metadata": {},
   "outputs": [
    {
     "name": "stdout",
     "output_type": "stream",
     "text": [
      "## assistant: There are 31 days in January, March, May, July, August, October, and December.\n",
      "There are 30 days in April, June, September, and November.\n",
      "February has 28 days (29 days in leap years).\n"
     ]
    }
   ],
   "source": [
    "model_name = \"llama3.1:8b-instruct-q8_0\" #\"llama3.3:70b\"\n",
    "message_text = [\n",
    "\t{\n",
    "\t\t\"role\": \"system\",\n",
    "\t\t\"content\": \"You are a helpful assistant that provides concise and accurate answers to user questions. You can answer questions, provide explanations, and assist with tasks across various topics.\"\n",
    "    },\n",
    "    {\n",
    "    \"role\": \"user\",\n",
    "    \"content\": \"You are an AI assistant that helps people find information. Tell me the number of days in a month\"\n",
    "}]\n",
    "\n",
    "# completion = client.chat.completions.create(\n",
    "#     model=model_name, # gpt-35-turbo\n",
    "#     messages=message_text,\n",
    "\n",
    "# )\n",
    "completion = client.chat.completions.create(\n",
    "\t\t\tmodel=model_name, # gpt-35-turbo\n",
    "\t\t\tmessages=message_text,\n",
    "\t\t\t# temperature=0.7,\n",
    "\t\t\tmax_tokens=800,\n",
    "\t\t\t# top_p=0.95,\n",
    "\t\t\t# frequency_penalty=0,\n",
    "\t\t\t# presence_penalty=0,\n",
    "\t\t\t# stop=None\n",
    "\t\t)\n",
    "# print('## user:', message_text[0]['content'])\n",
    "print('## assistant:', completion.choices[0].message.content)\n",
    "\n",
    "# print(completion.choices[0].message.content)"
   ]
  },
  {
   "cell_type": "code",
   "execution_count": 29,
   "metadata": {},
   "outputs": [
    {
     "name": "stdout",
     "output_type": "stream",
     "text": [
      "## assistant: Unfortunately, I am unable to provide the exact answer because I cannot find this specific information.\n"
     ]
    }
   ],
   "source": [
    "model_name = \"llama3.1:8b-instruct-fp16\"\n",
    "message_text = [\n",
    "\t{\n",
    "\t\t\"role\": \"system\",\n",
    "\t\t\"content\": '''You are a helpful, respectful and honest question answering system. I will be providing you with questions, as well as some additional context that may be helpful in answering those questions. You will be provided with additional information between the \"<DOCS>\" tags. Keep your answers brief, ideally less than 20 words, but a strict limit of 30 words.\n",
    "\n",
    "        If the provided information is insufficient for answering the question, simply output \"Insuffient information\" and only output that. If the question asserts a false premise, like \"When did Eisenhower become Prime Minister?\", simply output \"Invalid question\". Thus, if you are inclined to say something like \"X never has\" or \"X never was\" or \"X never did\", your output should be \"Invalid question\". If you don't know the answer or the question is unanswerable, simply output \"I don't know\".'''\n",
    "    },\n",
    "    {\n",
    "    \"role\": \"user\",\n",
    "    \"content\": ''' \n",
    "    # Example 1\n",
    "    QUESTION: who was the first nba player to get a recorded triple double in basketball?\n",
    "    <DOCS>\n",
    "    <DOC>\n",
    "    Andy Phillip got a triple-double versus the Fort Wayne Pistons on December 14, 1950.\n",
    "    </DOC>\n",
    "    </DOCS>\n",
    "    ANSWER: andy phillip\n",
    "\n",
    "    # Example 2\n",
    "    QUESTION: what year did ronald reagan become kommissar in the soviet union?\n",
    "    <DOCS>\n",
    "    <DOC>\n",
    "    Ronald Wilson Reagan was an American politician and actor who served as the 40th president of the United States from 1981 to 1989.\n",
    "    </DOC>\n",
    "    <DOC>\n",
    "    Reagan's policies also helped contribute to the end of the Cold War and the end of Soviet communism.\n",
    "    </DOC>\n",
    "    </DOCS>\n",
    "    ANSWER: invalid question\n",
    "\n",
    "    # Example 3\n",
    "    QUESTION: what are the total number of farms in nebraska?\n",
    "    <DOCS>\n",
    "    <DOC>\n",
    "    There are many farms in Nebraska, some growing corn, while other growing sugar beats.\n",
    "    </DOC>\n",
    "    <DOC>\n",
    "    Nebraska's largest industries are the argiculture and cattle production industries.\n",
    "    </DOC>\n",
    "    </DOCS>\n",
    "    ANSWER: i don't know\n",
    "\n",
    "    <DOCS>\n",
    "    <DOC>\n",
    "    Steve Nash - Wikipedia\n",
    "    #### 2013–14 season\n",
    "    Nash with the Lakers in 2013\n",
    "    During the 2013–14 season, Nash continued to suffer nerve problems stemming\n",
    "    from his leg injury the prior season. In November 2013, he was sidelined for\n",
    "    an estimated minimum of two weeks due to nerve root irritation.[70] Nash\n",
    "    returned on 4 February 2014, shooting 3-for-6 for 7 points. On 7 February\n",
    "    2014, his 40th birthday, he scored a season-high 19 points in a victory over\n",
    "    the Philadelphia 76ers.[71] On 13 March, Nash was ruled out for the remainder\n",
    "    of the season by D'Antoni. He was suffering from a recurrence of nerve\n",
    "    problems stemming from an earlier collision to his left leg with Chicago's\n",
    "    Kirk Hinrich, and the Lakers wanted to give Kendall Marshall and Jordan Farmar\n",
    "    more playing time. However, Nash returned on 21 March after a groin injury to\n",
    "    Farmar that was expected to sideline him a minimum of two weeks.[72][73]\n",
    "    </DOC>\n",
    "    <DOC>\n",
    "    Steve Nash - Wikipedia\n",
    "    ## Player profile\n",
    "    Nash is known for his dribbling, passing, and shooting abilities.\n",
    "    Nash was praised for his playmaking, ball-handling skills and shooting. He led\n",
    "    the league in assists for five years, averaging 11.5 assists per game in\n",
    "    2004–05, 10.5 in 2005–06, 11.6 in 2006–07, 11.0 in 2009–10 and 11.4 in\n",
    "    2010–11[16] and won the NBA Skills Challenge in 2005 and 2010.[12] As of the\n",
    "    end of 2012–13 season, he had a 90.4% career free throw shooting average\n",
    "    (formerly the best in NBA history, as of 2013[update] second to Stephen\n",
    "    Curry)[107][108] and a 42.8% career three-point shooting average (eighth-best\n",
    "    in league history),[109] and ranked as one of the top 10 players in league\n",
    "    history in total assists, assists per game, and three-point field goals\n",
    "    made.[110][111][112] He is ranked second (starting from 1986–87) in regular\n",
    "    season point–assist double doubles.[113] In the 2005–06 season, Nash became\n",
    "    the fourth player in NBA history to shoot 50% or better from the field, 40%\n",
    "    from three-point range (43.9), and 90% from the line, joining Larry Bird,\n",
    "    Reggie Miller, and Mark Price in the 50–40–90 club.[33][114] Nash would repeat\n",
    "    this feat three more times in the 2007–08, 2008–09 and 2009–10 campaigns.[16]\n",
    "    Nash (four times), Larry Bird and Kevin Durant (two times each) are the only\n",
    "    players to have accomplished this feat more than once.[115]\n",
    "    </DOC>\n",
    "    <DOC>\n",
    "    Steve Nash - Wikipedia\n",
    "    #### 2011–12 season\n",
    "    In February 2012, Nash was named to his eighth All-Star Game. At the time, he\n",
    "    was leading the NBA in assists per game.[49] On 21 April 2012, Nash passed\n",
    "    Oscar Robertson for career assists versus the Denver Nuggets. Despite his\n",
    "    stellar play the Suns missed the 2012 playoffs for the second consecutive\n",
    "    time. He finished the season averaging 12.5 points and 10.7 assists per game\n",
    "    on 53.2% shooting from the field (tying his career high). Near the end of the\n",
    "    2011–12 season, Nash was named the winner of the PBWA's Magic Johnson Award.\n",
    "    </DOC>\n",
    "    <DOC>\n",
    "    Steve Nash - Wikipedia\n",
    "    Nash originally attended Mount Douglas Secondary School in Saanich, British\n",
    "    Columbia, but after his grades began to drop, his parents decided to enroll\n",
    "    him at St. Michaels University School, a private school in Victoria.[11]\n",
    "    There, he starred in basketball, soccer, and rugby union. While playing\n",
    "    basketball during his senior season, Nash averaged 21.3 points, 11.2 assists,\n",
    "    and 9.1 rebounds per game.[12] In the 1991–92 season, he led his team in his\n",
    "    final year to the British Columbia AAA provincial championship title, and was\n",
    "    named the province's Player of the Year.[13]\n",
    "    </DOC>\n",
    "    <DOC>\n",
    "    Steve Nash - Wikipedia\n",
    "    In his rookie season, Nash only managed 10.5 minutes a game,[16] but in his\n",
    "    second season, his playing time increased significantly and he was even ranked\n",
    "    13th in the league for three-point field-goal percentage.[8] Nevertheless, the\n",
    "    Canadian's tenure with the Suns did not last. Nelson had just taken a job as\n",
    "    assistant general manager of the Dallas Mavericks under his father, Don\n",
    "    Nelson, and convinced him to acquire the under-utilised Nash.[17] Following\n",
    "    the 1998 NBA draft, Nash was traded from the Suns to the Mavericks in exchange\n",
    "    for Martin Müürsepp, Bubba Wells, the draft rights to Pat Garrity and a first-\n",
    "    round draft pick (who later turned out to be future Phoenix teammate Shawn\n",
    "    Marion).[18]\n",
    "    </DOC>\n",
    "    <DOC>\n",
    "    Steve Nash - Wikipedia\n",
    "    ### Dallas Mavericks (1998–2004)\n",
    "    It was in Dallas that Nash established himself as a formidable point guard,\n",
    "    beginning a decade as one of the game's top players. During his first year as\n",
    "    a Maverick (the lockout-shortened 1998–99 season) he started in all 40 games\n",
    "    he played in, and averaged 7.9 points, 2.9 rebounds and 5.5 assists per\n",
    "    game.[16] The 19–31 Mavericks failed to make the 1999 playoffs, but in the\n",
    "    1999–2000 season, the team's prospects improved considerably. Nash missed 25\n",
    "    mid-season games due to an ankle injury, but came back to record six double-\n",
    "    doubles in the last month of play.[12] He finished the season with averages of\n",
    "    8.6 points and 4.9 assists per game.[16] More importantly for the team,\n",
    "    second-year teammate and friend Dirk Nowitzki was blossoming quickly into a\n",
    "    top player, veteran Michael Finley was having an All-Star-calibre year, and\n",
    "    the team's new owner, billionaire Mark Cuban, was bringing new energy and\n",
    "    excitement to the franchise. Nash now had a supportive environment in which he\n",
    "    could thrive.\n",
    "    </DOC>\n",
    "    <DOC>\n",
    "    Steve Nash - Wikipedia\n",
    "    In the 2000–01 season, Nash averaged 15.6 points and 7.3 assists per game in a\n",
    "    breakout season.[16] With Nash directing the team's offense, Nowitzki and\n",
    "    Finley playing at their best, and the acquisition of All-Star Juwan Howard\n",
    "    complementing the high-scoring trio, the Mavericks earned a playoff berth for\n",
    "    the first time in more than a decade. Dallas lost in the Western Conference\n",
    "    Semifinals four games to one to the San Antonio Spurs, but it marked the\n",
    "    beginning of a memorable run for Nash and the Mavericks.[19] In the 2001–02\n",
    "    season, Nash posted career-highs of 17.9 points and 7.7 assists per game[16]\n",
    "    and earned a spot in the NBA All-Star Game and on the All-NBA Third\n",
    "    Team.[20][21] He was now an All-Star, increasingly appearing in television\n",
    "    commercials and, with Finley and Nowitzki, a part of the Dallas Mavericks \"Big\n",
    "    Three\".[22] Dallas earned another trip to the playoffs but lost again in the\n",
    "    Semifinals to the Sacramento Kings four games to one.[23]\n",
    "    </DOC>\n",
    "    <DOC>\n",
    "    Steve Nash - Wikipedia\n",
    "    Nash closely replicated his previous season's performance in the 2002–03\n",
    "    season, averaging 17.7 points and 7.3 assists per game,[16] again earning All-\n",
    "    Star and All-NBA Third Team honours.[20][24] Nowitzki and Nash led the\n",
    "    Mavericks from a 14-game winning streak to open the season all the way to the\n",
    "    Western Conference finals, where they lost to the eventual NBA champions, the\n",
    "    San Antonio Spurs four games to two.[25] It was only the second Conference\n",
    "    finals appearance in the franchise's history. The 2003–04 season saw an\n",
    "    offensively boosted Mavericks roster (with the acquisitions of Antoine Walker\n",
    "    and Antawn Jamison) but a dip in Nash's scoring contributions. As a result, he\n",
    "    was not selected for the All-Star and All-NBA team rosters even though he\n",
    "    achieved new career highs in assists per game (8.8) and free throw accuracy\n",
    "    (91.6%).[16] In the 2004 playoffs, the fifth-seeded Dallas failed to make\n",
    "    progress yet again as the Sacramento Kings saw them off four games to one.[26]\n",
    "    </DOC>\n",
    "    <DOC>\n",
    "    Steve Nash - Wikipedia\n",
    "    #### 2006–07 season\n",
    "    In the 2006–07 season, Nash had another stellar campaign, averaging 18.6\n",
    "    points and a career-high 11.6 assists per game while becoming the first person\n",
    "    since Magic Johnson in 1990–91 to average 18 points and 11 assists per game\n",
    "    during the regular season.[38] Nash received the most votes for first-team\n",
    "    All-NBA and was joined by teammate Stoudemire; the two were the first\n",
    "    teammates to make the first team since Kobe Bryant and Shaquille O'Neal in\n",
    "    2003–04.[38] Nash received 129 first-place votes and 645 total points from the\n",
    "    panel of 129 media members.[38] He narrowly missed being MVP a third\n",
    "    consecutive time, coming in second with 44 first place votes to 83 for Dirk\n",
    "    Nowitzki.[39] In the 2007 playoffs, the Suns eliminated the Lakers in five\n",
    "    games before losing 4–2 to the Spurs in the conference semifinals.[40]\n",
    "    </DOC>\n",
    "    </DOCS>\n",
    "    QUESTION (asked at 03/10/2024, 23:19:21 PT): how many 3-point attempts did steve nash average per game in seasons he made the 50-40-90 club?\n",
    "    '''\n",
    "}]\n",
    "\n",
    "completion = client.chat.completions.create(\n",
    "    model=model_name, # gpt-35-turbo\n",
    "    messages=message_text,\n",
    "    # temperature=0.7,\n",
    "    max_tokens=800,\n",
    "    # top_p=0.95,\n",
    "    # frequency_penalty=0,\n",
    "    # presence_penalty=0,\n",
    "    stop=None\n",
    ")\n",
    "\n",
    "# print('## user:', message_text[0]['content'])\n",
    "print('## assistant:', completion.choices[0].message.content)\n",
    "\n",
    "# print(completion.choices[0].message.content)"
   ]
  }
 ],
 "metadata": {
  "kernelspec": {
   "display_name": "Python 3",
   "language": "python",
   "name": "python3"
  },
  "language_info": {
   "codemirror_mode": {
    "name": "ipython",
    "version": 3
   },
   "file_extension": ".py",
   "mimetype": "text/x-python",
   "name": "python",
   "nbconvert_exporter": "python",
   "pygments_lexer": "ipython3",
   "version": "undefined.undefined.undefined"
  }
 },
 "nbformat": 4,
 "nbformat_minor": 2
}
