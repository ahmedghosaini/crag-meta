{
 "cells": [
  {
   "cell_type": "code",
   "execution_count": 1,
   "metadata": {},
   "outputs": [],
   "source": [
    "import torch\n",
    "from transformers import AutoTokenizer, AutoModelForCausalLM, BitsAndBytesConfig, pipeline\n",
    "from peft import PeftModel, PeftConfig"
   ]
  },
  {
   "cell_type": "code",
   "execution_count": 2,
   "metadata": {},
   "outputs": [],
   "source": [
    "DEFAULT_CONFIG = BitsAndBytesConfig(\n",
    "    load_in_4bit=True,\n",
    "    bnb_4bit_compute_dtype=torch.float16,\n",
    "    bnb_4bit_quant_type=\"nf4\",\n",
    "    bnb_4bit_use_double_quant=False,\n",
    ")"
   ]
  },
  {
   "cell_type": "code",
   "execution_count": 3,
   "metadata": {},
   "outputs": [
    {
     "data": {
      "application/vnd.jupyter.widget-view+json": {
       "model_id": "4ad91bdde7e042f3aed14e1e430ffaa8",
       "version_major": 2,
       "version_minor": 0
      },
      "text/plain": [
       "Loading checkpoint shards:   0%|          | 0/7 [00:00<?, ?it/s]"
      ]
     },
     "metadata": {},
     "output_type": "display_data"
    }
   ],
   "source": [
    "model_name = \"models/Meta-Llama-3-8B-Instruct\"\n",
    "tokenizer = AutoTokenizer.from_pretrained(model_name)\n",
    "model = AutoModelForCausalLM.from_pretrained(\n",
    "            model_name,\n",
    "            device_map=\"auto\",\n",
    "            quantization_config=DEFAULT_CONFIG,\n",
    "            torch_dtype=torch.float16,\n",
    "        )"
   ]
  },
  {
   "cell_type": "code",
   "execution_count": 15,
   "metadata": {},
   "outputs": [],
   "source": [
    "MODELS_DIR = \"models\"\n",
    "peft_path=f\"{MODELS_DIR}/peft_task3\"\n",
    "api_peft_path=f\"{MODELS_DIR}/peft_api\"\n",
    "if True:\n",
    "\tmodel.load_adapter(peft_path, adapter_name=\"context\")\n",
    "\tmodel.load_adapter(api_peft_path, adapter_name=\"api\")"
   ]
  },
  {
   "cell_type": "code",
   "execution_count": 4,
   "metadata": {},
   "outputs": [
    {
     "name": "stderr",
     "output_type": "stream",
     "text": [
      "Device set to use cuda:0\n"
     ]
    }
   ],
   "source": [
    "generation_pipe = pipeline(\n",
    "            task=\"text-generation\",\n",
    "            model=model,\n",
    "            tokenizer=tokenizer,\n",
    "            max_new_tokens=100,\n",
    "            batch_size=1,\n",
    "            do_sample=False,\n",
    "            temperature=0.0,\n",
    "            top_p=1.0,\n",
    "            truncation=True\n",
    "        )"
   ]
  },
  {
   "cell_type": "code",
   "execution_count": 9,
   "metadata": {},
   "outputs": [],
   "source": [
    "formatted_text = \"You are an AI assistant that helps people find information. Tell me the number of days in december\""
   ]
  },
  {
   "cell_type": "code",
   "execution_count": 10,
   "metadata": {},
   "outputs": [],
   "source": [
    "formatted_text = '<|begin_of_text|><|start_header_id|>system<|end_header_id|>\\nYou are a helpful, respectful and honest question answering system. I will be providing you with questions, as well as some additional context that may be helpful in answering those questions. You will be provided with additional information between the \"<DOCS>\" tags. Keep your answers brief, ideally less than 20 words, but a strict limit of 30 words.\\n\\nIf the provided information is insufficient for answering the question, simply output \"Insuffient information\" and only output that. If the question asserts a false premise, like \"When did Eisenhower become Prime Minister?\", simply output \"Invalid question\". Thus, if you are inclined to say something like \"X never has\" or \"X never was\" or \"X never did\", your output should be \"Invalid question\".\\n\\nFinal reminder, with award shows, years can be tricky. Often awards are handed out the year after the project is made. Thus for the Oscars in 2015, the awards are being given out to movies made in 2014.<|eot_id|><|start_header_id|>user<|end_header_id|>\\n# Example 1\\nQUESTION: who was the first nba player to get a recorded triple double in basketball?\\n<DOCS>\\n<DOC>\\nAndy Phillip got a triple-double versus the Fort Wayne Pistons on December 14, 1950.\\n</DOC>\\n</DOCS>\\nANSWER: andy phillip\\n\\n# Example 2\\nQUESTION: what year did ronald reagan become kommissar in the soviet union?\\n<DOCS>\\n<DOC>\\nRonald Wilson Reagan was an American politician and actor who served as the 40th president of the United States from 1981 to 1989.\\n</DOC>\\n<DOC>\\nReagan\\'s policies also helped contribute to the end of the Cold War and the end of Soviet communism.\\n</DOC>\\n</DOCS>\\nANSWER: invalid question\\n\\n# Example 3\\nQUESTION: what are the total number of farms in nebraska?\\n<DOCS>\\n<DOC>\\nThere are many farms in Nebraska, some growing corn, while other growing sugar beats.\\n</DOC>\\n<DOC>\\nNebraska\\'s largest industries are the argiculture and cattle production industries.\\n</DOC>\\n</DOCS>\\nANSWER: i don\\'t know\\n\\n<DOCS>\\n<DOC>\\nDow 30 Stocks List Today • Dogs of the Dow\\n## Which Dow stock pays the highest dividend?\\n\\nOf the 30 Dow Jones Industrial Companies, IBM pays the highest dividend with\\nan annual dividend yield of over 5%.\\n</DOC>\\n<DOC>\\nBest Dow Jones Stocks To Watch In 2024\\nThe Dow Jones Industrial Average ended February at new highs, as the ongoing\\nstock market rally continues. The best Dow Jones stocks to watch in 2024 are\\nApple (AAPL), Merck (MRK), Microsoft (MSFT) and Visa (V).\\n</DOC>\\n<DOC>\\nBest Dow Jones Stocks To Watch In 2024\\n\\n* Research\\n\\n#  Today\\'s Dow Jones Stocks To Watch: Apple Stock Dives On Slowing iPhone\\nSales\\n\\nLicensing\\n\\n  * SCOTT LEHTONEN\\n  * 02:20 PM ET 03/05/2024\\n</DOC>\\n<DOC>\\nBest Dow Jones Stocks To Watch In 2024\\n## IBM Stock\\nIBM shares are approaching a flat base\\'s 196.90 buy point.\\nThe stock dipped 0.2% Tuesday.\\n## Merck Stock\\nDrug giant Merck is breaking out past a 119.65 cup-base buy point.\\nMerck shares fell 1% Tuesday, back in the 5% buy area above the entry and\\npulling back to the 50-day line.\\n</DOC>\\n<DOC>\\nBest Dow Jones Stocks To Watch In 2024\\nThe worst three Dow Jones stocks in 2023 were Walgreens Boots Alliance (WBA),\\nChevron (CVX) and Johnson & Johnson (JNJ), with respective declines of 30, 16%\\nand 11%.\\n</DOC>\\n<DOC>\\nBest Dow Jones Stocks To Watch In 2024\\nOn the downside, Intel (INTC) and Salesforce (CRM) were the biggest decliners,\\nboth sliding 5%.\\nAmid the current stock market rally — according to the IBD Big Picture —\\ninvestors should focus on stocks that show strong relative strength. These\\ncould again become 2024 market leaders if the Dow Jones Industrial Average is\\nable to extend its recent gains.\\n</DOC>\\n<DOC>\\nBest Dow Jones Stocks To Watch In 2024\\nThe best Dow Jones stocks to buy and watch in 2024 include Apple, IBM, Merck,\\nMicrosoft and Visa.\\nStock Market ETF Strategy And How To Invest\\n## Dow Jones Leader: Apple Stock\\nAmong Dow Jones stocks in the Magnificent Seven, Apple stock lost 2.9% Tuesday\\non a report that showed slowing iPhone sales in China. The company sold 24%\\nfewer iPhones in China in the first six weeks of 2024 than a year earlier,\\naccording to research firm Counterpoint Research.\\n</DOC>\\n<DOC>\\nBest Dow Jones Stocks To Watch In 2024\\n###### Source: IBD Data As Of Dec. 29, 2023\\n## Today\\'s Dow Jones Movers\\nInside the Dow Jones Industrial Average, Walmart (WMT) was one of Tuesday\\'s\\nbiggest gainers, up 1.6%. Shares are extended past a cup-with-handle entry at\\n54.47.\\n</DOC>\\n<DOC>\\nBest Dow Jones Stocks To Watch In 2024\\nX\\nThere are clear winners — and losers — at the start of February. The top three\\nperforming blue chip stocks in 2023 were Salesforce (CRM), Intel (INTC) and\\nMicrosoft, posting rallies of 98%, 90% and 56%, respectively.\\n</DOC>\\n<DOC>\\nTop 30 Companies of Dow Jones Index by Weight in 2023\\n## Best Dow Jones ETF\\nInvesting in an ETF (Exchange-Traded Fund) is another way to invest in the Dow\\nJones index. The best Dow Jones ETF in the market today is SPDR Dow Jones\\nIndustrial Average ETF (DIA). It is a non-leveraged ETF that copies the\\nperformance of the Dow and its stock allocation.\\n</DOC>\\n</DOCS>\\nQUESTION (asked at 03/05/2024, 23:18:31 PT): what company in the dow jones is the best performer today?<|eot_id|><|start_header_id|>assistant<|end_header_id|>ANSWERABLE:'"
   ]
  },
  {
   "cell_type": "code",
   "execution_count": 11,
   "metadata": {},
   "outputs": [
    {
     "name": "stderr",
     "output_type": "stream",
     "text": [
      "Setting `pad_token_id` to `eos_token_id`:128001 for open-end generation.\n"
     ]
    }
   ],
   "source": [
    "result = generation_pipe(formatted_text)"
   ]
  },
  {
   "cell_type": "code",
   "execution_count": 8,
   "metadata": {},
   "outputs": [
    {
     "data": {
      "text/plain": [
       "'You are an AI assistant that helps people find information. Tell me the number of days in december in a year.\\nDecember has 31 days. Would you like to know more about December or any other month? I can help you with that!'"
      ]
     },
     "execution_count": 8,
     "metadata": {},
     "output_type": "execute_result"
    }
   ],
   "source": [
    "result[0][\"generated_text\"]"
   ]
  },
  {
   "cell_type": "code",
   "execution_count": 14,
   "metadata": {},
   "outputs": [
    {
     "name": "stdout",
     "output_type": "stream",
     "text": [
      "i don't know\n",
      "\n",
      "<DOCS>\n",
      "<DOC>\n",
      "Dow 30 Stocks List Today • Dogs of the Dow\n",
      "## Which Dow stock pays the highest dividend?\n",
      "\n",
      "Of the 30 Dow Jones Industrial Companies, IBM pays the highest dividend with\n",
      "an annual dividend yield of over 5%.\n",
      "</DOC>\n",
      "<DOC>\n",
      "Best Dow Jones Stocks To Watch In 2024\n",
      "The Dow Jones Industrial Average ended February at new highs, as the ongoing\n",
      "stock market rally continues. The best Dow Jones stocks to watch in 2024 are\n",
      "Apple (AAPL), Merck (MRK), Microsoft (MSFT) and Visa (V).\n",
      "</DOC>\n",
      "<DOC>\n",
      "Best Dow Jones Stocks To Watch In 2024\n",
      "\n",
      "* Research\n",
      "\n",
      "#  Today's Dow Jones Stocks To Watch: Apple Stock Dives On Slowing iPhone\n",
      "Sales\n",
      "\n",
      "Licensing\n",
      "\n",
      "  * SCOTT LEHTONEN\n",
      "  * 02:20 PM ET 03/05/2024\n",
      "</DOC>\n",
      "<DOC>\n",
      "Best Dow Jones Stocks To Watch In 2024\n",
      "## IBM Stock\n",
      "IBM shares are approaching a flat base's 196.90 buy point.\n",
      "The stock dipped 0.2% Tuesday.\n",
      "## Merck Stock\n",
      "Drug giant Merck is breaking out past a 119.65 cup-base buy point.\n",
      "Merck shares fell 1% Tuesday, back in the 5% buy area above the entry and\n",
      "pulling back to the 50-day line.\n",
      "</DOC>\n",
      "<DOC>\n",
      "Best Dow Jones Stocks To Watch In 2024\n",
      "The worst three Dow Jones stocks in 2023 were Walgreens Boots Alliance (WBA),\n",
      "Chevron (CVX) and Johnson & Johnson (JNJ), with respective declines of 30, 16%\n",
      "and 11%.\n",
      "</DOC>\n",
      "<DOC>\n",
      "Best Dow Jones Stocks To Watch In 2024\n",
      "On the downside, Intel (INTC) and Salesforce (CRM) were the biggest decliners,\n",
      "both sliding 5%.\n",
      "Amid the current stock market rally — according to the IBD Big Picture —\n",
      "investors should focus on stocks that show strong relative strength. These\n",
      "could again become 2024 market leaders if the Dow Jones Industrial Average is\n",
      "able to extend its recent gains.\n",
      "</DOC>\n",
      "<DOC>\n",
      "Best Dow Jones Stocks To Watch In 2024\n",
      "The best Dow Jones stocks to buy and watch in 2024 include Apple, IBM, Merck,\n",
      "Microsoft and Visa.\n",
      "Stock Market ETF Strategy And How To Invest\n",
      "## Dow Jones Leader: Apple Stock\n",
      "Among Dow Jones stocks in the Magnificent Seven, Apple stock lost 2.9% Tuesday\n",
      "on a report that showed slowing iPhone sales in China. The company sold 24%\n",
      "fewer iPhones in China in the first six weeks of 2024 than a year earlier,\n",
      "according to research firm Counterpoint Research.\n",
      "</DOC>\n",
      "<DOC>\n",
      "Best Dow Jones Stocks To Watch In 2024\n",
      "###### Source: IBD Data As Of Dec. 29, 2023\n",
      "## Today's Dow Jones Movers\n",
      "Inside the Dow Jones Industrial Average, Walmart (WMT) was one of Tuesday's\n",
      "biggest gainers, up 1.6%. Shares are extended past a cup-with-handle entry at\n",
      "54.47.\n",
      "</DOC>\n",
      "<DOC>\n",
      "Best Dow Jones Stocks To Watch In 2024\n",
      "X\n",
      "There are clear winners — and losers — at the start of February. The top three\n",
      "performing blue chip stocks in 2023 were Salesforce (CRM), Intel (INTC) and\n",
      "Microsoft, posting rallies of 98%, 90% and 56%, respectively.\n",
      "</DOC>\n",
      "<DOC>\n",
      "Top 30 Companies of Dow Jones Index by Weight in 2023\n",
      "## Best Dow Jones ETF\n",
      "Investing in an ETF (Exchange-Traded Fund) is another way to invest in the Dow\n",
      "Jones index. The best Dow Jones ETF in the market today is SPDR Dow Jones\n",
      "Industrial Average ETF (DIA). It is a non-leveraged ETF that copies the\n",
      "performance of the Dow and its stock allocation.\n",
      "</DOC>\n",
      "</DOCS>\n",
      "QUESTION (asked at 03/05/2024, 23:18:31 PT): what company in the dow jones is the best performer today?<|eot_id|><|start_header_id|>assistant<|end_header_id|>ANSWERABLE: According to the provided information, the best Dow Jones stocks to watch in 2024 are Apple, IBM, Merck, Microsoft, and Visa.\n"
     ]
    }
   ],
   "source": [
    "print(result[0][\"generated_text\"].split(\"ANSWER: \")[-1])"
   ]
  }
 ],
 "metadata": {
  "kernelspec": {
   "display_name": "Python 3",
   "language": "python",
   "name": "python3"
  },
  "language_info": {
   "codemirror_mode": {
    "name": "ipython",
    "version": 3
   },
   "file_extension": ".py",
   "mimetype": "text/x-python",
   "name": "python",
   "nbconvert_exporter": "python",
   "pygments_lexer": "ipython3",
   "version": "3.11.11"
  }
 },
 "nbformat": 4,
 "nbformat_minor": 2
}
